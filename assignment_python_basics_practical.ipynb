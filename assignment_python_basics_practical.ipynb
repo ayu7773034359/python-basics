{
  "nbformat": 4,
  "nbformat_minor": 0,
  "metadata": {
    "colab": {
      "provenance": []
    },
    "kernelspec": {
      "name": "python3",
      "display_name": "Python 3"
    },
    "language_info": {
      "name": "python"
    }
  },
  "cells": [
    {
      "cell_type": "markdown",
      "source": [
        " 1.Write a Python program to print \"Hello, World!_"
      ],
      "metadata": {
        "id": "zreFVRozJv89"
      }
    },
    {
      "cell_type": "code",
      "source": [
        "print(\"Hello world\")"
      ],
      "metadata": {
        "colab": {
          "base_uri": "https://localhost:8080/"
        },
        "id": "l3XsOFK4Jyir",
        "outputId": "6260c7ab-bdb4-40fa-cef6-a015cb298e26"
      },
      "execution_count": null,
      "outputs": [
        {
          "output_type": "stream",
          "name": "stdout",
          "text": [
            "Hello world\n"
          ]
        }
      ]
    },
    {
      "cell_type": "markdown",
      "source": [
        " 2.Write a Python program that displays your name and age"
      ],
      "metadata": {
        "id": "33wsDaaaJ8d1"
      }
    },
    {
      "cell_type": "code",
      "source": [
        "name = (\"Ayushi\")\n",
        "age = (\"25\")\n",
        "print(\"my name is\",name)\n",
        "print(\"i am\" ,age, \"years old\")"
      ],
      "metadata": {
        "colab": {
          "base_uri": "https://localhost:8080/"
        },
        "id": "Nzqo1mLuKWn7",
        "outputId": "675b4cc9-beeb-4b87-9e52-3002cfa2ecd7"
      },
      "execution_count": null,
      "outputs": [
        {
          "output_type": "stream",
          "name": "stdout",
          "text": [
            "my name is Ayushi\n",
            "i am 25 years old\n"
          ]
        }
      ]
    },
    {
      "cell_type": "markdown",
      "source": [
        " 3.Write code to print all the pre-defined keywords in Python using the keyword library"
      ],
      "metadata": {
        "id": "4_lk0GhRL7fh"
      }
    },
    {
      "cell_type": "code",
      "source": [
        "import keyword\n",
        "print(\"list of python keywords:\")\n",
        "print(keyword.kwlist)"
      ],
      "metadata": {
        "colab": {
          "base_uri": "https://localhost:8080/"
        },
        "id": "MrPX5y93MczU",
        "outputId": "234beff9-b863-4451-e8df-e3802d30c8f3"
      },
      "execution_count": null,
      "outputs": [
        {
          "output_type": "stream",
          "name": "stdout",
          "text": [
            "list of python keywords:\n",
            "['False', 'None', 'True', 'and', 'as', 'assert', 'async', 'await', 'break', 'class', 'continue', 'def', 'del', 'elif', 'else', 'except', 'finally', 'for', 'from', 'global', 'if', 'import', 'in', 'is', 'lambda', 'nonlocal', 'not', 'or', 'pass', 'raise', 'return', 'try', 'while', 'with', 'yield']\n"
          ]
        }
      ]
    },
    {
      "cell_type": "markdown",
      "source": [
        " 4.Write a program that checks if a given word is a Python keyword"
      ],
      "metadata": {
        "id": "gXIZQKNMOOi0"
      }
    },
    {
      "cell_type": "code",
      "source": [
        "import keyword\n",
        "word =input(\"if:\")\n",
        "if keyword.iskeyword(word):\n",
        "    print(\"f '{word}' is a python keyword\")"
      ],
      "metadata": {
        "colab": {
          "base_uri": "https://localhost:8080/"
        },
        "id": "6rLqwEHWOTbC",
        "outputId": "0da2a1a9-95d9-4ba8-d2f5-0773a150d81c"
      },
      "execution_count": null,
      "outputs": [
        {
          "name": "stdout",
          "output_type": "stream",
          "text": [
            "if:word in keyword explaination\n"
          ]
        }
      ]
    },
    {
      "cell_type": "markdown",
      "source": [
        " 5.Create a list and tuple in Python, and demonstrate how attempting to change an element works differently\n",
        "for each"
      ],
      "metadata": {
        "id": "--T2R-bmQgMG"
      }
    },
    {
      "cell_type": "code",
      "source": [
        "my_list = [1,2,3]\n",
        "my_tuple = (4,5,6)\n",
        "print(\"original list:\", my_list)\n",
        "my_list[1] = 200\n",
        "print(\"modified list:\", my_list)\n",
        "\n",
        "print(\"\\noriginal tuple:\", my_tuple)\n",
        "my_tuple[1] = 500"
      ],
      "metadata": {
        "colab": {
          "base_uri": "https://localhost:8080/",
          "height": 245
        },
        "id": "WmK3GaYxQqnr",
        "outputId": "3c936cbf-f766-43b4-a5b1-9ed0471e3cf5"
      },
      "execution_count": null,
      "outputs": [
        {
          "output_type": "stream",
          "name": "stdout",
          "text": [
            "original list: [1, 2, 3]\n",
            "modified list: [1, 200, 3]\n",
            "\n",
            "original tuple: (4, 5, 6)\n"
          ]
        },
        {
          "output_type": "error",
          "ename": "TypeError",
          "evalue": "'tuple' object does not support item assignment",
          "traceback": [
            "\u001b[0;31m---------------------------------------------------------------------------\u001b[0m",
            "\u001b[0;31mTypeError\u001b[0m                                 Traceback (most recent call last)",
            "\u001b[0;32m<ipython-input-17-fb61f1a72628>\u001b[0m in \u001b[0;36m<cell line: 0>\u001b[0;34m()\u001b[0m\n\u001b[1;32m      6\u001b[0m \u001b[0;34m\u001b[0m\u001b[0m\n\u001b[1;32m      7\u001b[0m \u001b[0mprint\u001b[0m\u001b[0;34m(\u001b[0m\u001b[0;34m\"\\noriginal tuple:\"\u001b[0m\u001b[0;34m,\u001b[0m \u001b[0mmy_tuple\u001b[0m\u001b[0;34m)\u001b[0m\u001b[0;34m\u001b[0m\u001b[0;34m\u001b[0m\u001b[0m\n\u001b[0;32m----> 8\u001b[0;31m \u001b[0mmy_tuple\u001b[0m\u001b[0;34m[\u001b[0m\u001b[0;36m1\u001b[0m\u001b[0;34m]\u001b[0m \u001b[0;34m=\u001b[0m \u001b[0;36m500\u001b[0m\u001b[0;34m\u001b[0m\u001b[0;34m\u001b[0m\u001b[0m\n\u001b[0m",
            "\u001b[0;31mTypeError\u001b[0m: 'tuple' object does not support item assignment"
          ]
        }
      ]
    },
    {
      "cell_type": "markdown",
      "source": [
        " 8.Write a program to demonstrate the use of logical operators"
      ],
      "metadata": {
        "id": "1Iiao9XCWH5P"
      }
    },
    {
      "cell_type": "code",
      "source": [
        "username = \"admin\"\n",
        "password = \"1234\"\n",
        "is_admin = True\n",
        "is_logged_in = False\n",
        "#using 'and' operators\n",
        "if username == \"admin\" and password == \"1234\":\n",
        "    print(\"login successfull\")\n",
        "    is_logged_in = True\n",
        "else:\n",
        "    print(\"invalid credenrials!\")\n",
        "\n",
        "#using 'or' operators\n",
        "if is_logged_in or is_admin:\n",
        "    print(\"access granted to admin panel\")\n",
        "else:\n",
        "    print(\"access denied!\")\n",
        "\n",
        "#using 'not' operators\n",
        "if not is_logged_in:\n",
        "    print(\"please log in to continue\")\n",
        "else:\n",
        "    print(\"welcome to your dashboard!\")"
      ],
      "metadata": {
        "colab": {
          "base_uri": "https://localhost:8080/"
        },
        "id": "FY5a17_4ZEOl",
        "outputId": "56442301-6b33-4833-a44e-57353d4f64ac"
      },
      "execution_count": null,
      "outputs": [
        {
          "output_type": "stream",
          "name": "stdout",
          "text": [
            "login successfull\n",
            "access granted to admin panel\n",
            "welcome to your dashboard!\n"
          ]
        }
      ]
    },
    {
      "cell_type": "markdown",
      "source": [
        " 9.Write a Python program to convert user input from string to integer, float, and boolean types\n"
      ],
      "metadata": {
        "id": "SFAQv1dbbi9E"
      }
    },
    {
      "cell_type": "code",
      "source": [
        "# Convert to integer\n",
        "try:\n",
        "    int_value = int(10)\n",
        "    print(f\"Integer: {int_value}\")\n",
        "except ValueError:\n",
        "    print(\"Cannot convert to integer.\")\n",
        "\n",
        "# Convert to float\n",
        "try:\n",
        "    float_value = float(10.5)\n",
        "    print(f\"Float: {float_value}\")\n",
        "except ValueError:\n",
        "    print(\"Cannot convert to float.\")\n",
        "\n"
      ],
      "metadata": {
        "colab": {
          "base_uri": "https://localhost:8080/"
        },
        "id": "-QVhfHRv6igt",
        "outputId": "f3260070-7504-4f60-b4a8-edc283930def"
      },
      "execution_count": null,
      "outputs": [
        {
          "output_type": "stream",
          "name": "stdout",
          "text": [
            "Integer: 10\n",
            "Float: 10.5\n"
          ]
        }
      ]
    },
    {
      "cell_type": "markdown",
      "source": [
        " 11.Write a program that checks if a number is positive, negative, or zero"
      ],
      "metadata": {
        "id": "rkw_jN5Yi592"
      }
    },
    {
      "cell_type": "code",
      "source": [
        "number = float(input(\"Enter a number: \"))\n",
        "\n",
        "# Checking conditions\n",
        "if number > 0:\n",
        "    print(\"The number is positive.\")\n",
        "elif number < 0:\n",
        "    print(\"The number is negative.\")\n",
        "else:\n",
        "    print(\"The number is zero.\")\n"
      ],
      "metadata": {
        "colab": {
          "base_uri": "https://localhost:8080/"
        },
        "id": "i0bNSkkGCRhO",
        "outputId": "98249785-6436-4018-8ca9-60c1462ac08a"
      },
      "execution_count": null,
      "outputs": [
        {
          "output_type": "stream",
          "name": "stdout",
          "text": [
            "Enter a number: 15\n",
            "The number is positive.\n"
          ]
        }
      ]
    },
    {
      "cell_type": "markdown",
      "source": [
        " 10.Write code to demonstrate type casting with list elements"
      ],
      "metadata": {
        "id": "51x2t6TNjUA2"
      }
    },
    {
      "cell_type": "code",
      "source": [
        "data = [\"123\", \"45.67\", \"true\", \"789\"]\n",
        "\n",
        "#type casting elements\n",
        "int_value = int(data[0])\n",
        "\n",
        "float_value = float(data[1])\n",
        "\n",
        "bool_value = bool(data[2])\n",
        "\n",
        "str_value = str(data[3])\n",
        "\n",
        "print(int_value,bool_value,float_value,str_value)"
      ],
      "metadata": {
        "colab": {
          "base_uri": "https://localhost:8080/"
        },
        "id": "6NCEMaXXjaCY",
        "outputId": "63e3cf9d-e462-45f3-95e0-0e2a27e13d76"
      },
      "execution_count": null,
      "outputs": [
        {
          "output_type": "stream",
          "name": "stdout",
          "text": [
            "123 True 45.67 789\n"
          ]
        }
      ]
    },
    {
      "cell_type": "markdown",
      "source": [
        " 12.Write a for loop to print numbers from 1 to 10"
      ],
      "metadata": {
        "id": "UbNJumOlmB2O"
      }
    },
    {
      "cell_type": "code",
      "source": [
        "for i in range(1 , 11):\n",
        "    print(i)"
      ],
      "metadata": {
        "colab": {
          "base_uri": "https://localhost:8080/"
        },
        "id": "ogmPerOtmKaR",
        "outputId": "ea2a5a68-0542-4bf8-c021-4227d1312e0d"
      },
      "execution_count": null,
      "outputs": [
        {
          "output_type": "stream",
          "name": "stdout",
          "text": [
            "1\n",
            "2\n",
            "3\n",
            "4\n",
            "5\n",
            "6\n",
            "7\n",
            "8\n",
            "9\n",
            "10\n"
          ]
        }
      ]
    },
    {
      "cell_type": "markdown",
      "source": [
        " 13.Write a Python program to find the sum of all even numbers between 1 and 500"
      ],
      "metadata": {
        "id": "2tKLChHjmjeI"
      }
    },
    {
      "cell_type": "code",
      "source": [
        "sum_even = sum(range(2, 501, 2))\n",
        "\n",
        "print(\"sum of all even numbers between 1 and 500:\", sum_even)"
      ],
      "metadata": {
        "colab": {
          "base_uri": "https://localhost:8080/"
        },
        "id": "jA0fuZ3smogQ",
        "outputId": "3c000533-e4c9-4b81-ad6c-38f4c2735bf8"
      },
      "execution_count": null,
      "outputs": [
        {
          "output_type": "stream",
          "name": "stdout",
          "text": [
            "sum of all even numbers between 1 and 500: 62750\n"
          ]
        }
      ]
    },
    {
      "cell_type": "markdown",
      "source": [
        " 14.Write a program to reverse a string using a while loop"
      ],
      "metadata": {
        "id": "f_pMl0gFoFjh"
      }
    },
    {
      "cell_type": "code",
      "source": [
        "#input string\n",
        "text = input(\"python\")\n",
        "\n",
        "#initialize variables\n",
        "reversed_text = \"\"\n",
        "index = len(text) - 1\n",
        "\n",
        "#loop to reverse the string\n",
        "while index >=0:\n",
        "  reversed_text += text[index]\n",
        "\n",
        "  index -= 1\n",
        "\n",
        "print(\"reversed string:\", reversed_text)"
      ],
      "metadata": {
        "colab": {
          "base_uri": "https://localhost:8080/"
        },
        "id": "uutDm8SQoKSg",
        "outputId": "624b4590-0fa7-47a2-8ea3-46a838417686"
      },
      "execution_count": null,
      "outputs": [
        {
          "output_type": "stream",
          "name": "stdout",
          "text": [
            "pythonreversed_text\n",
            "reversed string: txet_desrever\n"
          ]
        }
      ]
    },
    {
      "cell_type": "markdown",
      "source": [
        " 15.Write a Python program to calculate the factorial of a number provided by the user using a while loop."
      ],
      "metadata": {
        "id": "i-ALuR-uqHYz"
      }
    },
    {
      "cell_type": "code",
      "source": [
        "# Get user input\n",
        "num = int(input(\"Enter a number: \"))\n",
        "\n",
        "# Initialize variables\n",
        "factorial = 1\n",
        "i = num\n",
        "\n",
        "# Calculate factorial using while loop\n",
        "while i > 0:\n",
        "    factorial *= i\n",
        "    i -= 1  # Decrement the counter\n",
        "\n",
        "# Print the result\n",
        "print(f\"Factorial of {num} is {factorial}\")"
      ],
      "metadata": {
        "colab": {
          "base_uri": "https://localhost:8080/"
        },
        "id": "rMtYicpErGjK",
        "outputId": "da0281b5-9758-42fb-aeb1-7477bc046c14"
      },
      "execution_count": null,
      "outputs": [
        {
          "output_type": "stream",
          "name": "stdout",
          "text": [
            "Enter a number: 5\n",
            "Factorial of 5 is 120\n"
          ]
        }
      ]
    },
    {
      "cell_type": "markdown",
      "source": [
        " 6.Write a function to demonstrate the behavior of mutable and immutable arguments"
      ],
      "metadata": {
        "id": "FHeYTcf4sA48"
      }
    },
    {
      "cell_type": "code",
      "source": [
        "def modify_values(num, num_list):\n",
        "    # Modifying immutable argument (integer)\n",
        "    num += 10  # This creates a new integer object\n",
        "    print(f\"Inside function (num): {num}\")\n",
        "\n",
        "    # Modifying mutable argument (list)\n",
        "    num_list.append(100)  # This modifies the existing list\n",
        "    print(f\"Inside function (num_list): {num_list}\")\n",
        "\n",
        "# Immutable argument\n",
        "x = 5  # Integer (immutable)\n",
        "# Mutable argument\n",
        "y = [1, 2, 3]  # List (mutable)\n",
        "\n",
        "print(f\"Before function call (x): {x}\")\n",
        "print(f\"Before function call (y): {y}\")\n",
        "\n",
        "modify_values(x, y)\n",
        "\n",
        "print(f\"After function call (x): {x}\")  # Unchanged\n",
        "print(f\"After function call (y): {y}\")  # Changed\n",
        "\n"
      ],
      "metadata": {
        "colab": {
          "base_uri": "https://localhost:8080/"
        },
        "id": "PqOUisAjsCk5",
        "outputId": "5a0dbdba-cfbd-467d-e95d-37bb35afbbf6"
      },
      "execution_count": null,
      "outputs": [
        {
          "output_type": "stream",
          "name": "stdout",
          "text": [
            "Before function call (x): 5\n",
            "Before function call (y): [1, 2, 3]\n",
            "Inside function (num): 15\n",
            "Inside function (num_list): [1, 2, 3, 100]\n",
            "After function call (x): 5\n",
            "After function call (y): [1, 2, 3, 100]\n"
          ]
        }
      ]
    }
  ]
}