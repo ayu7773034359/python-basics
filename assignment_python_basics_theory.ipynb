{
  "nbformat": 4,
  "nbformat_minor": 0,
  "metadata": {
    "colab": {
      "provenance": []
    },
    "kernelspec": {
      "name": "python3",
      "display_name": "Python 3"
    },
    "language_info": {
      "name": "python"
    }
  },
  "cells": [
    {
      "cell_type": "markdown",
      "source": [
        "PYTHON BASICS"
      ],
      "metadata": {
        "id": "V3EQzB2qMhxL"
      }
    },
    {
      "cell_type": "markdown",
      "source": [
        "1.What is Python, and why is it popular?\n",
        "\n",
        "  -> python is a programming language known for its readibility,simplicity and versatility.A programming language is a formal language for creating instructions for a computer to follow a set of rules and symbols that define the process of writting computer programme.Python is used in various fields including web development, data analysis, artificial intelligence and more.\n",
        "\n",
        "  Python is popular because:\n",
        "\n",
        "  -Easy to learn and use\n",
        "\n",
        "  -Versatile\n",
        "\n",
        "  -Highly used in industry\n",
        "\n",
        "  -A lot of libraries in python\n",
        "\n",
        "  -Huge active community\n",
        "\n",
        "  -Data base\n",
        "\n",
        "  -Automation\n",
        "\n",
        "  -Widely used in the industry\n",
        "\n",
        "\n",
        "  \n"
      ],
      "metadata": {
        "id": "8JQ6HgyMMxV_"
      }
    },
    {
      "cell_type": "markdown",
      "source": [
        " 2.What is an interpreter in Python?\n",
        "  \n",
        "  -> An interpreter in python is a program that executes python code directly line by line instead of compiling the entire code before running it.A python interpreter is a software component that reads, processes and executes python code by converting it into bytecode and running it within the python virtual machine."
      ],
      "metadata": {
        "id": "A11aaOAuSA73"
      }
    },
    {
      "cell_type": "markdown",
      "source": [
        " 3.What are pre-defined keywords in Python?\n",
        "\n",
        "  -> Predifined keywords in python are reserved words that have specific meanings and cannot be used as variable names, functions names, or idebtifiers.These keywords define the syntax and structure of python programs.\n",
        "  They are an essential part of pythons syntax and cannot be used as identifiers.Keywords are used to define conditions, loops, functions, and other control flow elements.\n"
      ],
      "metadata": {
        "id": "pXAWey4OTzXg"
      }
    },
    {
      "cell_type": "markdown",
      "source": [
        " 4.Can keywords be used as variable names?\n",
        "\n",
        "  -> No, keywords cannot be used as variable names in Python. Since keywords have predefined meanings and are part of Python’s syntax, using them as variable names will result in a SyntaxError.Keywords serve a speific roles in the language."
      ],
      "metadata": {
        "id": "qvIckgNDWJgh"
      }
    },
    {
      "cell_type": "markdown",
      "source": [
        " 5.What is mutability in Python?\n",
        "\n",
        "  -> Mutability in python refers to an objects ability to be modified after its creation.Mutable objects can be changed ehile immutable objects cannot be changed.Mutable objects can be edit or change."
      ],
      "metadata": {
        "id": "7B5iR2jpXuyI"
      }
    },
    {
      "cell_type": "markdown",
      "source": [
        " 6.Why are lists mutable, but tuples are immutable?\n",
        "\n",
        "  -> Lists are mutable because it can be edited or change after its creation it is designed to be flexible allowing elements to be added, removed, or modified.They are stored in a accomodate changes.\n",
        "\n",
        "  -> Tuples are immutable because it cannot be edited or change after its creation they are optimized for fixed data.Since they dont change python stores them in a more compact and efficient manner."
      ],
      "metadata": {
        "id": "bLvMH62MYcY-"
      }
    },
    {
      "cell_type": "markdown",
      "source": [
        " 7.What is the difference between “==” and “is” operators in Python?\n",
        "\n",
        "  -> Both \"==\" and \"is\" are comparison operators in python, but they serve different purposes.\n",
        "\n",
        "  \"==\" compares the value of two objects.\n",
        "\n",
        "  \"is\" compares the memory addresses of two objects."
      ],
      "metadata": {
        "id": "hHe6q_YSa_-f"
      }
    },
    {
      "cell_type": "markdown",
      "source": [
        " 8.What are logical operators in Python?\n",
        "\n",
        "  -> Logical operators in python are used to combine conditional statements.They evaluate expressions and return either True or False based on the logic they perform."
      ],
      "metadata": {
        "id": "JiaWy514cLQA"
      }
    },
    {
      "cell_type": "markdown",
      "source": [
        "9.What is type casting in Python?\n",
        "\n",
        "  -> Type casting is the process of converting one data type into another.\n",
        "\n",
        "  \n",
        "   "
      ],
      "metadata": {
        "id": "_3d_mDKxc7E-"
      }
    },
    {
      "cell_type": "markdown",
      "source": [
        " 10.What is the difference between implicit and explicit type casting?\n",
        "\n",
        "  -> Difference between impicit and explicit type casting:\n",
        "\n",
        "  Implicit Type Casting - Python automatically converts data types during operations where no data loss occurs.\n",
        "  \n",
        "  \n",
        "   Explicit Type Casting - python provides built in functions for explicit conversion.\n"
      ],
      "metadata": {
        "id": "IMMApfS2eiDM"
      }
    },
    {
      "cell_type": "markdown",
      "source": [
        "  11.What is the purpose of conditional statements in Python?\n",
        "\n",
        "  -> The purpose of conditional statement in python is to control the flow of a program by executing specific blocks of code based on certain conditions.conditional statements allow your code to make decisions, improving its flexibiity and functionality.conditional statements helps in decision making they allow your program to take different actions based on data or user input."
      ],
      "metadata": {
        "id": "1kGD-PS9fO7P"
      }
    },
    {
      "cell_type": "markdown",
      "source": [
        " 12.How does the elif statement work?\n",
        "   \n",
        "   -> The elif statement in python stands for \"else if\" and is used to check multiple conditions in sequence.It allows you to add additional conditions after an initial if statement.\n",
        "\n",
        "   The program evalutes conditions from top to bottom.\n",
        "\n",
        "   Once a true condition is found, the corresponding block of code is executed, and the remaing conditions are skipped.\n",
        "\n",
        "   If none of the conditions are true,the else block will execute.\n",
        "\n",
        "\n"
      ],
      "metadata": {
        "id": "Ftbj_tCjD8Sh"
      }
    },
    {
      "cell_type": "markdown",
      "source": [
        " 13.What is the difference between for and while loops?\n",
        "\n",
        "  -> The for loop and while loop are both used for iteration in python, but they differ in structure,purpose,and behaviour.\n",
        "\n",
        "  FOR LOOP - Used when you know the exact number of iteration or iterating over a sequence.use a while loop when looping until a specific condition is met.\n",
        "\n",
        "  WHILE LOOP - Used when the number of iteration is unknown and depends on a condition.The condition is evaluated before each iteration."
      ],
      "metadata": {
        "id": "42OPUj61Fdks"
      }
    },
    {
      "cell_type": "markdown",
      "source": [
        " 14.Describe a scenario where a while loop is more suitable than a for loop?\n",
        "\n",
        "  -> A while loop os more suitable than a for loop when the number of iteration is unknown and depends on a condition being met.\n",
        "\n",
        "  For example: Imagine a program that keeps asking for a valid password until the user provides the correct one.since the number of attempts is unknown,a while loop is best choice."
      ],
      "metadata": {
        "id": "AXnFiqiyHKGk"
      }
    }
  ]
}